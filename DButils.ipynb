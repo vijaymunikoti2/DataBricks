{
 "cells": [
  {
   "cell_type": "code",
   "execution_count": 0,
   "metadata": {
    "application/vnd.databricks.v1+cell": {
     "cellMetadata": {
      "byteLimit": 2048000,
      "rowLimit": 10000
     },
     "inputWidgets": {},
     "nuid": "1c7fbbcd-537c-48ff-9d36-27c358fc952b",
     "showTitle": false,
     "tableResultSettingsMap": {},
     "title": ""
    }
   },
   "outputs": [],
   "source": [
    "df=dbutils.fs.ls('/FileStore/tables/')"
   ]
  },
  {
   "cell_type": "code",
   "execution_count": 0,
   "metadata": {
    "application/vnd.databricks.v1+cell": {
     "cellMetadata": {
      "byteLimit": 2048000,
      "rowLimit": 10000
     },
     "inputWidgets": {},
     "nuid": "8ad1255b-e749-46cc-9c14-7c4ece9bb2b0",
     "showTitle": false,
     "tableResultSettingsMap": {},
     "title": ""
    }
   },
   "outputs": [],
   "source": [
    "dbutils.fs.head('/FileStore/tables/Customer_Master.csv')"
   ]
  },
  {
   "cell_type": "code",
   "execution_count": 0,
   "metadata": {
    "application/vnd.databricks.v1+cell": {
     "cellMetadata": {
      "byteLimit": 2048000,
      "rowLimit": 10000
     },
     "inputWidgets": {},
     "nuid": "69f1b7cc-34b7-4111-b983-75c50188e4df",
     "showTitle": false,
     "tableResultSettingsMap": {},
     "title": ""
    }
   },
   "outputs": [],
   "source": [
    "dbutils.fs.mkdirs('/FileStore/tables/new/')"
   ]
  },
  {
   "cell_type": "code",
   "execution_count": 0,
   "metadata": {
    "application/vnd.databricks.v1+cell": {
     "cellMetadata": {
      "byteLimit": 2048000,
      "rowLimit": 10000
     },
     "inputWidgets": {},
     "nuid": "ce60a537-6c50-4b5f-b349-e619e7874b31",
     "showTitle": false,
     "tableResultSettingsMap": {},
     "title": ""
    }
   },
   "outputs": [],
   "source": [
    "dbutils.fs.cp('/FileStore/tables/Customer_Master.csv','/FileStore/tables/new/')"
   ]
  },
  {
   "cell_type": "code",
   "execution_count": 0,
   "metadata": {
    "application/vnd.databricks.v1+cell": {
     "cellMetadata": {
      "byteLimit": 2048000,
      "rowLimit": 10000
     },
     "inputWidgets": {},
     "nuid": "6e86f793-8ee3-462b-8150-a63ed5e6aad8",
     "showTitle": false,
     "tableResultSettingsMap": {},
     "title": ""
    }
   },
   "outputs": [],
   "source": [
    "dbutils.fs.ls('/FileStore/tables/new/')\n",
    "#similarly mv"
   ]
  },
  {
   "cell_type": "code",
   "execution_count": 0,
   "metadata": {
    "application/vnd.databricks.v1+cell": {
     "cellMetadata": {
      "byteLimit": 2048000,
      "rowLimit": 10000
     },
     "inputWidgets": {},
     "nuid": "5f382c56-0788-4559-89a2-645b44e825db",
     "showTitle": false,
     "tableResultSettingsMap": {},
     "title": ""
    }
   },
   "outputs": [],
   "source": [
    "dbutils.fs.put(\"/FileStore/tables/new/new.txt\",\"hello\")"
   ]
  },
  {
   "cell_type": "code",
   "execution_count": 0,
   "metadata": {
    "application/vnd.databricks.v1+cell": {
     "cellMetadata": {
      "byteLimit": 2048000,
      "rowLimit": 10000
     },
     "inputWidgets": {},
     "nuid": "a110480e-78b2-4789-89ed-6b931ba5547e",
     "showTitle": false,
     "tableResultSettingsMap": {},
     "title": ""
    }
   },
   "outputs": [],
   "source": [
    "dbutils.fs.rm(\"/FileStore/tables/new/new.txt\")"
   ]
  },
  {
   "cell_type": "code",
   "execution_count": 0,
   "metadata": {
    "application/vnd.databricks.v1+cell": {
     "cellMetadata": {},
     "inputWidgets": {},
     "nuid": "d8bd7abc-d428-4899-86d1-84b820c5f5a0",
     "showTitle": false,
     "tableResultSettingsMap": {},
     "title": ""
    }
   },
   "outputs": [],
   "source": [
    "dbutils.notebook.run('','')#runpackages"
   ]
  },
  {
   "cell_type": "markdown",
   "metadata": {
    "application/vnd.databricks.v1+cell": {
     "cellMetadata": {},
     "inputWidgets": {},
     "nuid": "711be10a-2880-48e6-b989-3d2c49add049",
     "showTitle": false,
     "tableResultSettingsMap": {},
     "title": ""
    }
   },
   "source": [
    "WIDGETS"
   ]
  },
  {
   "cell_type": "code",
   "execution_count": 0,
   "metadata": {
    "application/vnd.databricks.v1+cell": {
     "cellMetadata": {
      "byteLimit": 2048000,
      "rowLimit": 10000
     },
     "inputWidgets": {},
     "nuid": "2ce8240f-c758-44cb-81dd-ca204264237e",
     "showTitle": false,
     "tableResultSettingsMap": {},
     "title": ""
    }
   },
   "outputs": [],
   "source": [
    "dbutils.widgets.text(\"Employee num\",\"\",\"\")\n",
    "var1=dbutils.widgets.get(\"Employee num\")\n",
    "print(var1)"
   ]
  },
  {
   "cell_type": "code",
   "execution_count": 0,
   "metadata": {
    "application/vnd.databricks.v1+cell": {
     "cellMetadata": {
      "byteLimit": 2048000,
      "rowLimit": 10000
     },
     "inputWidgets": {},
     "nuid": "3ee0aef1-b4ce-449f-8fda-d5577475a70d",
     "showTitle": false,
     "tableResultSettingsMap": {},
     "title": ""
    }
   },
   "outputs": [],
   "source": [
    "drop=dbutils.widgets.dropdown(\"drop\",\"no\",[\"yes\",\"no\"])\n",
    "print(drop)\n",
    "drop2=dbutils.widgets.combobox(\"comb\",\"no\",[\"yes\",\"no\"])\n",
    "print(drop2)\n",
    "drop3=dbutils.widgets.multiselect(\"mu\",\"no\",[\"yes\",\"no\"])\n",
    "print(drop3)"
   ]
  }
 ],
 "metadata": {
  "application/vnd.databricks.v1+notebook": {
   "computePreferences": null,
   "dashboards": [],
   "environmentMetadata": {
    "base_environment": "",
    "environment_version": "2"
   },
   "inputWidgetPreferences": null,
   "language": "python",
   "notebookMetadata": {
    "pythonIndentUnit": 4
   },
   "notebookName": "DButils",
   "widgets": {
    "Employee num": {
     "currentValue": "vijay",
     "nuid": "56eac5a0-8814-44d1-91d7-b151b8bcbc04",
     "typedWidgetInfo": {
      "autoCreated": false,
      "defaultValue": "",
      "label": "",
      "name": "Employee num",
      "options": {
       "widgetDisplayType": "Text",
       "validationRegex": null
      },
      "parameterDataType": "String"
     },
     "widgetInfo": {
      "widgetType": "text",
      "defaultValue": "",
      "label": "",
      "name": "Employee num",
      "options": {
       "widgetType": "text",
       "autoCreated": null,
       "validationRegex": null
      }
     }
    },
    "comb": {
     "currentValue": "yes",
     "nuid": "0283afce-2667-4f22-8802-47bd4bd05ae8",
     "typedWidgetInfo": {
      "autoCreated": false,
      "defaultValue": "no",
      "label": null,
      "name": "comb",
      "options": {
       "widgetDisplayType": "Dropdown",
       "choices": [
        "yes",
        "no"
       ],
       "fixedDomain": false,
       "multiselect": false
      },
      "parameterDataType": "String"
     },
     "widgetInfo": {
      "widgetType": "combobox",
      "defaultValue": "no",
      "label": null,
      "name": "comb",
      "options": {
       "widgetType": "dropdown",
       "autoCreated": null,
       "choices": [
        "yes",
        "no"
       ]
      }
     }
    },
    "drop": {
     "currentValue": "no",
     "nuid": "788c7157-90cd-4c54-bbe2-043701f5c7b6",
     "typedWidgetInfo": {
      "autoCreated": false,
      "defaultValue": "no",
      "label": null,
      "name": "drop",
      "options": {
       "widgetDisplayType": "Dropdown",
       "choices": [
        "yes",
        "no"
       ],
       "fixedDomain": true,
       "multiselect": false
      },
      "parameterDataType": "String"
     },
     "widgetInfo": {
      "widgetType": "dropdown",
      "defaultValue": "no",
      "label": null,
      "name": "drop",
      "options": {
       "widgetType": "dropdown",
       "autoCreated": null,
       "choices": [
        "yes",
        "no"
       ]
      }
     }
    },
    "mu": {
     "currentValue": "no,yes",
     "nuid": "fa512b8a-0c5d-48ce-898e-571079d54a72",
     "typedWidgetInfo": {
      "autoCreated": false,
      "defaultValue": "no",
      "label": null,
      "name": "mu",
      "options": {
       "widgetDisplayType": "Dropdown",
       "choices": [
        "yes",
        "no"
       ],
       "fixedDomain": true,
       "multiselect": true
      },
      "parameterDataType": "String"
     },
     "widgetInfo": {
      "widgetType": "multiselect",
      "defaultValue": "no",
      "label": null,
      "name": "mu",
      "options": {
       "widgetType": "dropdown",
       "autoCreated": null,
       "choices": [
        "yes",
        "no"
       ]
      }
     }
    }
   }
  },
  "language_info": {
   "name": "python"
  }
 },
 "nbformat": 4,
 "nbformat_minor": 0
}
