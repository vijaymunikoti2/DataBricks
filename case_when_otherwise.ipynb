{
 "cells": [
  {
   "cell_type": "code",
   "execution_count": 0,
   "metadata": {
    "application/vnd.databricks.v1+cell": {
     "cellMetadata": {
      "byteLimit": 2048000,
      "rowLimit": 10000
     },
     "inputWidgets": {},
     "nuid": "d939b0f3-d839-4eab-aab3-d546c932b227",
     "showTitle": false,
     "tableResultSettingsMap": {},
     "title": ""
    }
   },
   "outputs": [],
   "source": [
    "# Create sample data\n",
    "data = [\n",
    "    (1, 'vizag', '10'),\n",
    "    (2, 'vizag', '20'),\n",
    "    (3, 'vijayawada', '10'),\n",
    "    (4, 'vijayawada', '40')\n",
    "]\n",
    "schema = [\"ID\", \"city\", \"count\"]\n",
    "df = spark.createDataFrame(data, schema)\n"
   ]
  },
  {
   "cell_type": "code",
   "execution_count": 0,
   "metadata": {
    "application/vnd.databricks.v1+cell": {
     "cellMetadata": {
      "byteLimit": 2048000,
      "rowLimit": 10000
     },
     "inputWidgets": {},
     "nuid": "64a68d26-6696-455d-acf6-aef6195be2f2",
     "showTitle": false,
     "tableResultSettingsMap": {},
     "title": ""
    }
   },
   "outputs": [],
   "source": [
    "df.display()"
   ]
  },
  {
   "cell_type": "code",
   "execution_count": 0,
   "metadata": {
    "application/vnd.databricks.v1+cell": {
     "cellMetadata": {
      "byteLimit": 2048000,
      "rowLimit": 10000
     },
     "inputWidgets": {},
     "nuid": "07c2166e-4670-4b45-9f0f-f6f49bbfc462",
     "showTitle": false,
     "tableResultSettingsMap": {},
     "title": ""
    }
   },
   "outputs": [],
   "source": [
    "from pyspark.sql.functions import when, col, lit\n",
    "\n",
    "\n",
    "# Conditional logic\n",
    "df2 = df.withColumn(\n",
    "    \"sum\",\n",
    "    when((col(\"city\") == \"vizag\") & (col(\"count\") == '20'), lit(600))\n",
    "    .when((col(\"city\") == \"vijayawada\") | (col(\"count\") == '10'), lit(700))\n",
    "    .otherwise(lit(0))\n",
    ")\n",
    "\n",
    "df2.show()"
   ]
  }
 ],
 "metadata": {
  "application/vnd.databricks.v1+notebook": {
   "computePreferences": null,
   "dashboards": [],
   "environmentMetadata": {
    "base_environment": "",
    "environment_version": "2"
   },
   "inputWidgetPreferences": null,
   "language": "python",
   "notebookMetadata": {
    "pythonIndentUnit": 4
   },
   "notebookName": "case_when_otherwise",
   "widgets": {}
  },
  "language_info": {
   "name": "python"
  }
 },
 "nbformat": 4,
 "nbformat_minor": 0
}
